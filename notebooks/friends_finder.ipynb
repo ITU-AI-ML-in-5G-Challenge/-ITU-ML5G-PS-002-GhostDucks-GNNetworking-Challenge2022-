{
 "cells": [
  {
   "cell_type": "code",
   "execution_count": 1,
   "id": "4427acd2",
   "metadata": {},
   "outputs": [],
   "source": [
    "from pathlib import Path\n",
    "import numpy as np\n",
    "import pandas as pd\n",
    "import pickle\n",
    "from common.utils.pickling import pickle_read, pickle_write\n",
    "from common.utils.misc import load_samples, load_sample_loss_csv, load_sample_losses\n",
    "import matplotlib.pyplot as plt\n",
    "import networkx as nx\n",
    "from prepare_submission_data import pkl_to_tar\n",
    "import re\n",
    "from collections import defaultdict\n",
    "import random"
   ]
  },
  {
   "cell_type": "markdown",
   "id": "2d18004c",
   "metadata": {},
   "source": [
    "#### find \"friends\" - samples that have same topology and routing as given samples but different traffic"
   ]
  },
  {
   "cell_type": "code",
   "execution_count": 2,
   "id": "a947fd44",
   "metadata": {},
   "outputs": [],
   "source": [
    "def get_same_topo_samples(samples):\n",
    "    friends = defaultdict(list)\n",
    "\n",
    "    for smp in samples:\n",
    "        smp = Path(smp)\n",
    "        smp_per_topo = int(re.search('_\\d+x(\\d+)_', smp.name)[1])\n",
    "        ismp = int(smp.name.split('_')[-3])\n",
    "        #     print(smp_per_topo, ismp, smp.name)\n",
    "\n",
    "        i0 = ismp - (ismp%smp_per_topo)\n",
    "        for i in range(i0, i0+smp_per_topo):\n",
    "            iout = smp.parent / (smp.name.replace(f'_{ismp}_{ismp}_s_', f'_{i}_{i}_s_'))\n",
    "            if iout.exists():\n",
    "                friends[str(smp)].append(str(iout))\n",
    "\n",
    "    print(f'found {sum(len(v) for v in friends.values())} samples')\n",
    "    return friends"
   ]
  },
  {
   "cell_type": "code",
   "execution_count": 3,
   "id": "0a371589",
   "metadata": {},
   "outputs": [
    {
     "data": {
      "text/plain": [
       "154"
      ]
     },
     "execution_count": 3,
     "metadata": {},
     "output_type": "execute_result"
    }
   ],
   "source": [
    "p_c2 = '/mnt/ext-10g/shared/Projects/GNNetworkingChallenge/submissions/2/Exp#10_2022-10-08__00-06-28'\n",
    "p_c3 = '/mnt/ext-10g/shared/Projects/GNNetworkingChallenge/submissions/c3/Exp#34_2022-10-08__14-44-29'\n",
    "c2_samples = load_samples(Path(p_c2)/'samples')\n",
    "c3_samples = load_samples(Path(p_c3)/'samples')\n",
    "c2c3 = c2_samples + [p for p in c3_samples if p not in c2_samples]\n",
    "len(c2c3)"
   ]
  },
  {
   "cell_type": "code",
   "execution_count": 4,
   "id": "dc9d58dc",
   "metadata": {},
   "outputs": [
    {
     "name": "stdout",
     "output_type": "stream",
     "text": [
      "found 1390 samples\n"
     ]
    }
   ],
   "source": [
    "friends = get_same_topo_samples(c2c3)"
   ]
  },
  {
   "cell_type": "code",
   "execution_count": 8,
   "id": "229d803d",
   "metadata": {},
   "outputs": [],
   "source": [
    "pickle_write('/mnt/ext/users/yakovl/dev/GNNetworkingChallenge/subset_training/same_topo_as_6.7_samples.pkl', friends)"
   ]
  },
  {
   "cell_type": "code",
   "execution_count": null,
   "id": "ee91e269",
   "metadata": {},
   "outputs": [],
   "source": []
  },
  {
   "cell_type": "code",
   "execution_count": null,
   "id": "83807dc0",
   "metadata": {},
   "outputs": [],
   "source": []
  },
  {
   "cell_type": "code",
   "execution_count": null,
   "id": "fb5dcd21",
   "metadata": {},
   "outputs": [],
   "source": []
  },
  {
   "cell_type": "markdown",
   "id": "bc8810b1",
   "metadata": {},
   "source": [
    "#### try improving 6.7 run with samples from the friends set"
   ]
  },
  {
   "cell_type": "code",
   "execution_count": 10,
   "id": "83a9a86c",
   "metadata": {},
   "outputs": [
    {
     "data": {
      "text/html": [
       "<div>\n",
       "<style scoped>\n",
       "    .dataframe tbody tr th:only-of-type {\n",
       "        vertical-align: middle;\n",
       "    }\n",
       "\n",
       "    .dataframe tbody tr th {\n",
       "        vertical-align: top;\n",
       "    }\n",
       "\n",
       "    .dataframe thead th {\n",
       "        text-align: right;\n",
       "    }\n",
       "</style>\n",
       "<table border=\"1\" class=\"dataframe\">\n",
       "  <thead>\n",
       "    <tr style=\"text-align: right;\">\n",
       "      <th></th>\n",
       "      <th>path</th>\n",
       "      <th>loss</th>\n",
       "      <th>flows</th>\n",
       "      <th>net_size</th>\n",
       "      <th>wloss</th>\n",
       "      <th>dset</th>\n",
       "    </tr>\n",
       "  </thead>\n",
       "  <tbody>\n",
       "    <tr>\n",
       "      <th>0</th>\n",
       "      <td>/mnt/ext/shared/Projects/GNNetworkingChallenge...</td>\n",
       "      <td>8.584930</td>\n",
       "      <td>72</td>\n",
       "      <td>9</td>\n",
       "      <td>0.079347</td>\n",
       "      <td>hard3</td>\n",
       "    </tr>\n",
       "    <tr>\n",
       "      <th>1</th>\n",
       "      <td>/mnt/ext/shared/Projects/GNNetworkingChallenge...</td>\n",
       "      <td>4.898142</td>\n",
       "      <td>56</td>\n",
       "      <td>8</td>\n",
       "      <td>0.035211</td>\n",
       "      <td>15</td>\n",
       "    </tr>\n",
       "    <tr>\n",
       "      <th>2</th>\n",
       "      <td>/mnt/ext/shared/Projects/GNNetworkingChallenge...</td>\n",
       "      <td>4.008990</td>\n",
       "      <td>90</td>\n",
       "      <td>10</td>\n",
       "      <td>0.046317</td>\n",
       "      <td>8</td>\n",
       "    </tr>\n",
       "    <tr>\n",
       "      <th>3</th>\n",
       "      <td>/mnt/ext/shared/Projects/GNNetworkingChallenge...</td>\n",
       "      <td>16.132032</td>\n",
       "      <td>90</td>\n",
       "      <td>10</td>\n",
       "      <td>0.186378</td>\n",
       "      <td>hard3</td>\n",
       "    </tr>\n",
       "    <tr>\n",
       "      <th>4</th>\n",
       "      <td>/mnt/ext/shared/Projects/GNNetworkingChallenge...</td>\n",
       "      <td>18.407398</td>\n",
       "      <td>72</td>\n",
       "      <td>9</td>\n",
       "      <td>0.170133</td>\n",
       "      <td>hard4</td>\n",
       "    </tr>\n",
       "  </tbody>\n",
       "</table>\n",
       "</div>"
      ],
      "text/plain": [
       "                                                path       loss  flows  \\\n",
       "0  /mnt/ext/shared/Projects/GNNetworkingChallenge...   8.584930     72   \n",
       "1  /mnt/ext/shared/Projects/GNNetworkingChallenge...   4.898142     56   \n",
       "2  /mnt/ext/shared/Projects/GNNetworkingChallenge...   4.008990     90   \n",
       "3  /mnt/ext/shared/Projects/GNNetworkingChallenge...  16.132032     90   \n",
       "4  /mnt/ext/shared/Projects/GNNetworkingChallenge...  18.407398     72   \n",
       "\n",
       "   net_size     wloss   dset  \n",
       "0         9  0.079347  hard3  \n",
       "1         8  0.035211     15  \n",
       "2        10  0.046317      8  \n",
       "3        10  0.186378  hard3  \n",
       "4         9  0.170133  hard4  "
      ]
     },
     "execution_count": 10,
     "metadata": {},
     "output_type": "execute_result"
    }
   ],
   "source": [
    "smp_loss = load_sample_loss_csv(Path(p_c3) / 'train_sample_loss_16-6.70.csv')\n",
    "assert (smp_loss.path == c3_samples).all()\n",
    "# indices of top-loss samples\n",
    "toploss = smp_loss.loss.argsort()[::-1].reset_index(drop=True)\n",
    "smp_loss.head()"
   ]
  },
  {
   "cell_type": "code",
   "execution_count": 20,
   "id": "a82e8831",
   "metadata": {},
   "outputs": [],
   "source": [
    "# change the path\n",
    "p_train_root = Path('/mnt/ext/users/yakovl/dev/GNNetworkingChallenge/subset_training/unshuffled_order/3/friends_6.7_2')\n",
    "p_train_root.mkdir(parents=True)"
   ]
  },
  {
   "cell_type": "code",
   "execution_count": 12,
   "id": "a4fb12d7",
   "metadata": {},
   "outputs": [
    {
     "data": {
      "text/plain": [
       "<AxesSubplot:>"
      ]
     },
     "execution_count": 12,
     "metadata": {},
     "output_type": "execute_result"
    },
    {
     "data": {
      "image/png": "[encoded data removed]",
      "text/plain": [
       "<Figure size 432x288 with 1 Axes>"
      ]
     },
     "metadata": {
      "needs_background": "light"
     },
     "output_type": "display_data"
    }
   ],
   "source": [
    "smp_loss.loss.hist(bins=100)"
   ]
  },
  {
   "cell_type": "code",
   "execution_count": 13,
   "id": "53737e45",
   "metadata": {},
   "outputs": [
    {
     "name": "stdout",
     "output_type": "stream",
     "text": [
      "hardest (10, 6)\n",
      "hard (20, 6)\n",
      "medium (28, 6)\n",
      "easy (30, 6)\n",
      "easiest (12, 6)\n"
     ]
    }
   ],
   "source": [
    "gp = {\n",
    "    'hardest': smp_loss[smp_loss.loss>19],\n",
    "    'hard': smp_loss[(smp_loss.loss>12) & (smp_loss.loss<=19)],\n",
    "    'medium': smp_loss[(smp_loss.loss>7) & (smp_loss.loss<=12)],\n",
    "    'easy': smp_loss[(smp_loss.loss>3) & (smp_loss.loss<=7)],\n",
    "    'easiest': smp_loss[smp_loss.loss<=3],\n",
    "}\n",
    "for k, v in gp.items():\n",
    "    print(k, v.shape)\n"
   ]
  },
  {
   "cell_type": "code",
   "execution_count": 14,
   "id": "99fca111",
   "metadata": {},
   "outputs": [],
   "source": [
    "def sample_friends(friends, query, neach):\n",
    "    ret = []\n",
    "    for p in query.path:\n",
    "        hf = [x for x in friends[p] if x != p]\n",
    "        ret.extend(random.sample(friends[p], neach))\n",
    "    return ret\n",
    "\n",
    "def splice_to_end(samples, rm, add):\n",
    "    keep = samples.drop(rm.index, axis=0)\n",
    "    new100 = pd.concat((keep.path, pd.Series(add)))\n",
    "    return new100\n",
    "\n",
    "def splice_and_shuffle(samples, rm, add):\n",
    "    keep = samples.drop(rm.index, axis=0)\n",
    "    new100 = pd.concat((keep.path, pd.Series(add)))\n",
    "    new100 = new100.sample(frac=1)\n",
    "    return new100\n",
    "\n",
    "def save_list(samples, save_dir):\n",
    "    save_dir.mkdir()\n",
    "    assert len(samples)==100\n",
    "    samples.to_csv(save_dir / 'samples.txt', index=False, header=False)\n",
    "    "
   ]
  },
  {
   "cell_type": "code",
   "execution_count": 21,
   "id": "6b979690",
   "metadata": {},
   "outputs": [],
   "source": [
    "# remove easiest and add friends of hardest\n",
    "ntries = 3\n",
    "\n",
    "save_root = p_train_root / f'repl_easiest_with_hardest_friends'\n",
    "save_root.mkdir()\n",
    "\n",
    "for n in [1, 3, 5]:\n",
    "    for i in range(ntries):\n",
    "        rm = gp['easiest'].sample(n)\n",
    "        add = sample_friends(friends, gp['hardest'].sample(n), 1)\n",
    "        new100 = splice_and_shuffle(smp_loss, rm, add)\n",
    "        save_list(new100, save_root / f'n_{n}_{i}')\n"
   ]
  },
  {
   "cell_type": "code",
   "execution_count": 22,
   "id": "fa06391b",
   "metadata": {},
   "outputs": [],
   "source": [
    "# remove easiest and add friends of single hardest\n",
    "save_root = p_train_root / f'repl_easiest_with_1hardest_x_n'\n",
    "save_root.mkdir()\n",
    "\n",
    "hh = gp['hardest']\n",
    "hh = hh[hh.path.apply(lambda x: len(friends[x]))>1]\n",
    "for h in range(len(hh)):\n",
    "    ihh = hh.iloc[i:i+1]\n",
    "    n = 2\n",
    "    for i in range(3):\n",
    "        rm = gp['easiest'].sample(n)\n",
    "        add = sample_friends(friends, ihh, n)\n",
    "        new100 = splice_and_shuffle(smp_loss, rm, add)\n",
    "        save_list(new100, save_root / f'h_{h}_n_{n}_{i}')\n"
   ]
  },
  {
   "cell_type": "code",
   "execution_count": 23,
   "id": "740f0292",
   "metadata": {},
   "outputs": [],
   "source": [
    "# replace hardest with their friends\n",
    "ntries = 3\n",
    "\n",
    "save_root = p_train_root / f'repl_hardest_with_friends'\n",
    "save_root.mkdir()\n",
    "\n",
    "hh = gp['hardest']\n",
    "hh = hh[hh.path.apply(lambda x: len(friends[x]))>1]\n",
    "\n",
    "for n in [1, 3, 5]:\n",
    "    for i in range(ntries):\n",
    "        rm = hh.sample(n)\n",
    "        add = sample_friends(friends, rm, 1)\n",
    "        new100 = splice_and_shuffle(smp_loss, rm, add)\n",
    "        save_list(new100, save_root / f'n_{n}_{i}')\n"
   ]
  },
  {
   "cell_type": "code",
   "execution_count": 24,
   "id": "85aad7ef",
   "metadata": {},
   "outputs": [],
   "source": [
    "# replace hardest with friends of hard\n",
    "ntries = 3\n",
    "\n",
    "save_root = p_train_root / f'replace_hardest_with_hard_friends'\n",
    "save_root.mkdir()\n",
    "\n",
    "for n in [1, 3, 5]:\n",
    "    for i in range(ntries):\n",
    "        rm = gp['hardest'].sample(n)\n",
    "        add = sample_friends(friends, gp['hard'].sample(n), 1)\n",
    "        new100 = splice_and_shuffle(smp_loss, rm, add)\n",
    "        save_list(new100, save_root / f'n_{n}_{i}')\n"
   ]
  },
  {
   "cell_type": "code",
   "execution_count": 25,
   "id": "fb71d078",
   "metadata": {},
   "outputs": [],
   "source": [
    "# replace hardest with friends of medium\n",
    "ntries = 3\n",
    "\n",
    "save_root = p_train_root / f'replace_hardest_with_medium_friends'\n",
    "save_root.mkdir()\n",
    "\n",
    "for n in [1, 3, 5]:\n",
    "    for i in range(ntries):\n",
    "        rm = gp['hardest'].sample(n)\n",
    "        add = sample_friends(friends, gp['medium'].sample(n), 1)\n",
    "        new100 = splice_and_shuffle(smp_loss, rm, add)\n",
    "        save_list(new100, save_root / f'n_{n}_{i}')\n"
   ]
  },
  {
   "cell_type": "markdown",
   "id": "d1c72536",
   "metadata": {},
   "source": [
    "#### results"
   ]
  },
  {
   "cell_type": "code",
   "execution_count": 28,
   "id": "ced12074",
   "metadata": {},
   "outputs": [
    {
     "name": "stdout",
     "output_type": "stream",
     "text": [
      "126 paths found\n"
     ]
    }
   ],
   "source": [
    "p_root = Path('/mnt/ext-10g/users/yakovl/dev/GNNetworkingChallenge/subset_training/unshuffled_order/3')\n",
    "paths = list(p_root.glob('friends_6.7*/**/modelCheckpoints'))\n",
    "print(len(paths), 'paths found')"
   ]
  },
  {
   "cell_type": "code",
   "execution_count": 48,
   "id": "63cac964",
   "metadata": {},
   "outputs": [],
   "source": [
    "results = []\n",
    "for p in paths:\n",
    "    exp = p.relative_to(p_root).parts[1]\n",
    "    subexp = p.relative_to(p_root).parts[2]\n",
    "    iresult = pd.read_csv(p.parent / 'val_eval.log').set_index('epoch')\n",
    "    best = iresult.loc[iresult.loss.idxmin()]\n",
    "    results.append({'path': str(p.parent),\n",
    "                    'exp': exp,\n",
    "                    'subexp': subexp,\n",
    "                    'loss': best.loss,\n",
    "                    'ckpt': best.ckpt,\n",
    "                   })\n",
    "\n",
    "results = pd.DataFrame(results).sort_values('loss')\n"
   ]
  },
  {
   "cell_type": "code",
   "execution_count": 49,
   "id": "a6203dda",
   "metadata": {},
   "outputs": [
    {
     "data": {
      "text/html": [
       "<div>\n",
       "<style scoped>\n",
       "    .dataframe tbody tr th:only-of-type {\n",
       "        vertical-align: middle;\n",
       "    }\n",
       "\n",
       "    .dataframe tbody tr th {\n",
       "        vertical-align: top;\n",
       "    }\n",
       "\n",
       "    .dataframe thead th {\n",
       "        text-align: right;\n",
       "    }\n",
       "</style>\n",
       "<table border=\"1\" class=\"dataframe\">\n",
       "  <thead>\n",
       "    <tr style=\"text-align: right;\">\n",
       "      <th></th>\n",
       "      <th>path</th>\n",
       "      <th>exp</th>\n",
       "      <th>subexp</th>\n",
       "      <th>loss</th>\n",
       "      <th>ckpt</th>\n",
       "    </tr>\n",
       "  </thead>\n",
       "  <tbody>\n",
       "    <tr>\n",
       "      <th>72</th>\n",
       "      <td>/mnt/ext-10g/users/yakovl/dev/GNNetworkingChal...</td>\n",
       "      <td>repl_hardest_with_friends</td>\n",
       "      <td>n_3_0</td>\n",
       "      <td>6.6754</td>\n",
       "      <td>07-12.58</td>\n",
       "    </tr>\n",
       "    <tr>\n",
       "      <th>41</th>\n",
       "      <td>/mnt/ext-10g/users/yakovl/dev/GNNetworkingChal...</td>\n",
       "      <td>repl_easiest_with_1hardest_x_n</td>\n",
       "      <td>h_7_n_2_2</td>\n",
       "      <td>6.8827</td>\n",
       "      <td>20-9.75</td>\n",
       "    </tr>\n",
       "    <tr>\n",
       "      <th>75</th>\n",
       "      <td>/mnt/ext-10g/users/yakovl/dev/GNNetworkingChal...</td>\n",
       "      <td>repl_hardest_with_friends</td>\n",
       "      <td>n_5_2</td>\n",
       "      <td>7.0155</td>\n",
       "      <td>15-10.66</td>\n",
       "    </tr>\n",
       "    <tr>\n",
       "      <th>119</th>\n",
       "      <td>/mnt/ext-10g/users/yakovl/dev/GNNetworkingChal...</td>\n",
       "      <td>repl_easiest_with_1hardest_x_n</td>\n",
       "      <td>h_7_n_2_2</td>\n",
       "      <td>7.2304</td>\n",
       "      <td>14-9.44</td>\n",
       "    </tr>\n",
       "    <tr>\n",
       "      <th>80</th>\n",
       "      <td>/mnt/ext-10g/users/yakovl/dev/GNNetworkingChal...</td>\n",
       "      <td>repl_hardest_with_friends</td>\n",
       "      <td>n_3_2</td>\n",
       "      <td>7.2390</td>\n",
       "      <td>17-9.12</td>\n",
       "    </tr>\n",
       "    <tr>\n",
       "      <th>...</th>\n",
       "      <td>...</td>\n",
       "      <td>...</td>\n",
       "      <td>...</td>\n",
       "      <td>...</td>\n",
       "      <td>...</td>\n",
       "    </tr>\n",
       "    <tr>\n",
       "      <th>34</th>\n",
       "      <td>/mnt/ext-10g/users/yakovl/dev/GNNetworkingChal...</td>\n",
       "      <td>repl_hardest_with_friends</td>\n",
       "      <td>n_5_2</td>\n",
       "      <td>9.6630</td>\n",
       "      <td>02-20.31</td>\n",
       "    </tr>\n",
       "    <tr>\n",
       "      <th>125</th>\n",
       "      <td>/mnt/ext-10g/users/yakovl/dev/GNNetworkingChal...</td>\n",
       "      <td>repl_easiest_with_1hardest_x_n</td>\n",
       "      <td>h_1_n_2_0</td>\n",
       "      <td>9.6673</td>\n",
       "      <td>02-21.75</td>\n",
       "    </tr>\n",
       "    <tr>\n",
       "      <th>114</th>\n",
       "      <td>/mnt/ext-10g/users/yakovl/dev/GNNetworkingChal...</td>\n",
       "      <td>repl_easiest_with_1hardest_x_n</td>\n",
       "      <td>h_2_n_2_0</td>\n",
       "      <td>9.6887</td>\n",
       "      <td>20-4.33</td>\n",
       "    </tr>\n",
       "    <tr>\n",
       "      <th>84</th>\n",
       "      <td>/mnt/ext-10g/users/yakovl/dev/GNNetworkingChal...</td>\n",
       "      <td>replace_hardest_with_hard_friends</td>\n",
       "      <td>n_1_2</td>\n",
       "      <td>9.7552</td>\n",
       "      <td>10-7.49</td>\n",
       "    </tr>\n",
       "    <tr>\n",
       "      <th>65</th>\n",
       "      <td>/mnt/ext-10g/users/yakovl/dev/GNNetworkingChal...</td>\n",
       "      <td>repl_easiest_with_hardest_friends</td>\n",
       "      <td>n_5_0</td>\n",
       "      <td>9.8956</td>\n",
       "      <td>15-5.60</td>\n",
       "    </tr>\n",
       "  </tbody>\n",
       "</table>\n",
       "<p>126 rows × 5 columns</p>\n",
       "</div>"
      ],
      "text/plain": [
       "                                                  path  \\\n",
       "72   /mnt/ext-10g/users/yakovl/dev/GNNetworkingChal...   \n",
       "41   /mnt/ext-10g/users/yakovl/dev/GNNetworkingChal...   \n",
       "75   /mnt/ext-10g/users/yakovl/dev/GNNetworkingChal...   \n",
       "119  /mnt/ext-10g/users/yakovl/dev/GNNetworkingChal...   \n",
       "80   /mnt/ext-10g/users/yakovl/dev/GNNetworkingChal...   \n",
       "..                                                 ...   \n",
       "34   /mnt/ext-10g/users/yakovl/dev/GNNetworkingChal...   \n",
       "125  /mnt/ext-10g/users/yakovl/dev/GNNetworkingChal...   \n",
       "114  /mnt/ext-10g/users/yakovl/dev/GNNetworkingChal...   \n",
       "84   /mnt/ext-10g/users/yakovl/dev/GNNetworkingChal...   \n",
       "65   /mnt/ext-10g/users/yakovl/dev/GNNetworkingChal...   \n",
       "\n",
       "                                   exp     subexp    loss      ckpt  \n",
       "72           repl_hardest_with_friends      n_3_0  6.6754  07-12.58  \n",
       "41      repl_easiest_with_1hardest_x_n  h_7_n_2_2  6.8827   20-9.75  \n",
       "75           repl_hardest_with_friends      n_5_2  7.0155  15-10.66  \n",
       "119     repl_easiest_with_1hardest_x_n  h_7_n_2_2  7.2304   14-9.44  \n",
       "80           repl_hardest_with_friends      n_3_2  7.2390   17-9.12  \n",
       "..                                 ...        ...     ...       ...  \n",
       "34           repl_hardest_with_friends      n_5_2  9.6630  02-20.31  \n",
       "125     repl_easiest_with_1hardest_x_n  h_1_n_2_0  9.6673  02-21.75  \n",
       "114     repl_easiest_with_1hardest_x_n  h_2_n_2_0  9.6887   20-4.33  \n",
       "84   replace_hardest_with_hard_friends      n_1_2  9.7552   10-7.49  \n",
       "65   repl_easiest_with_hardest_friends      n_5_0  9.8956   15-5.60  \n",
       "\n",
       "[126 rows x 5 columns]"
      ]
     },
     "execution_count": 49,
     "metadata": {},
     "output_type": "execute_result"
    }
   ],
   "source": [
    "results"
   ]
  },
  {
   "cell_type": "code",
   "execution_count": 51,
   "id": "1fa03eed",
   "metadata": {},
   "outputs": [],
   "source": [
    "exps = results.exp.unique()"
   ]
  },
  {
   "cell_type": "code",
   "execution_count": 63,
   "id": "0cd55ffc",
   "metadata": {},
   "outputs": [
    {
     "data": {
      "text/plain": [
       "array([<AxesSubplot:>, <AxesSubplot:>, <AxesSubplot:>, <AxesSubplot:>,\n",
       "       <AxesSubplot:>, <AxesSubplot:>], dtype=object)"
      ]
     },
     "execution_count": 63,
     "metadata": {},
     "output_type": "execute_result"
    }
   ],
   "source": []
  },
  {
   "cell_type": "code",
   "execution_count": 66,
   "id": "5a4f10c0",
   "metadata": {},
   "outputs": [
    {
     "data": {
      "image/png": "[encoded data removed]",
      "text/plain": [
       "<Figure size 1080x504 with 6 Axes>"
      ]
     },
     "metadata": {
      "needs_background": "light"
     },
     "output_type": "display_data"
    }
   ],
   "source": [
    "f, axx = plt.subplots(2,3, figsize=(15,7))\n",
    "axx = np.concatenate((axx[0], axx[1]))\n",
    "for i, exp in enumerate(results.exp.unique()):\n",
    "    plt.sca(axx[i])\n",
    "    plt.hist(results[results.exp == exp].loss)\n",
    "    plt.title(exp)\n",
    "    "
   ]
  },
  {
   "cell_type": "code",
   "execution_count": 70,
   "id": "3e9fff28",
   "metadata": {},
   "outputs": [
    {
     "name": "stdout",
     "output_type": "stream",
     "text": [
      "Loss 6.6754 07-12.58 /mnt/ext-10g/users/yakovl/dev/GNNetworkingChallenge/subset_training/unshuffled_order/3/friends_6.7_2/repl_hardest_with_friends/n_3_0/n_3_0_2022-10-12__09-56-16\n",
      "Loss 6.8827 20-9.75 /mnt/ext-10g/users/yakovl/dev/GNNetworkingChallenge/subset_training/unshuffled_order/3/friends_6.7/repl_easiest_with_1hardest_x_n/h_7_n_2_2/h_7_n_2_2_2022-10-11__21-42-56\n",
      "Loss 7.0155 15-10.66 /mnt/ext-10g/users/yakovl/dev/GNNetworkingChallenge/subset_training/unshuffled_order/3/friends_6.7_2/repl_hardest_with_friends/n_5_2/n_5_2_2022-10-12__09-56-16\n",
      "Loss 7.2304 14-9.44 /mnt/ext-10g/users/yakovl/dev/GNNetworkingChallenge/subset_training/unshuffled_order/3/friends_6.7_2/repl_easiest_with_1hardest_x_n/h_7_n_2_2/h_7_n_2_2_2022-10-12__09-56-17\n",
      "Loss 7.239 17-9.12 /mnt/ext-10g/users/yakovl/dev/GNNetworkingChallenge/subset_training/unshuffled_order/3/friends_6.7_2/repl_hardest_with_friends/n_3_2/n_3_2_2022-10-12__09-56-15\n"
     ]
    }
   ],
   "source": [
    "for r in results.iloc[:5].itertuples():\n",
    "    print(f'Loss {r.loss} {r.ckpt} {r.path}')\n",
    "    \n",
    "#results.iloc[:5][['path', 'loss', 'ckpt']]\n"
   ]
  },
  {
   "cell_type": "code",
   "execution_count": null,
   "id": "8e041018",
   "metadata": {},
   "outputs": [],
   "source": []
  },
  {
   "cell_type": "code",
   "execution_count": null,
   "id": "8292e858",
   "metadata": {},
   "outputs": [],
   "source": []
  }
 ],
 "metadata": {
  "kernelspec": {
   "display_name": "Python 3 (ipykernel)",
   "language": "python",
   "name": "python3"
  },
  "language_info": {
   "codemirror_mode": {
    "name": "ipython",
    "version": 3
   },
   "file_extension": ".py",
   "mimetype": "text/x-python",
   "name": "python",
   "nbconvert_exporter": "python",
   "pygments_lexer": "ipython3",
   "version": "3.9.12"
  }
 },
 "nbformat": 4,
 "nbformat_minor": 5
}
